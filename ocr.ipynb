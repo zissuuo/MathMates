{
 "cells": [
  {
   "cell_type": "code",
   "execution_count": 1,
   "metadata": {},
   "outputs": [],
   "source": [
    "import pytesseract\n",
    "from PIL import Image\n",
    "import pandas as pd\n",
    "from konlpy.tag import Okt\n",
    "import numpy as np"
   ]
  },
  {
   "attachments": {},
   "cell_type": "markdown",
   "metadata": {},
   "source": [
    "### OCR"
   ]
  },
  {
   "cell_type": "code",
   "execution_count": 3,
   "metadata": {},
   "outputs": [
    {
     "name": "stdout",
     "output_type": "stream",
     "text": [
      "\n"
     ]
    }
   ],
   "source": [
    "# 이미지를 불러옵니다.\n",
    "image = Image.open(\"sample3.png\")\n",
    "\n",
    "# pytesseract를 사용하여 이미지 내 텍스트를 추출합니다. lang 옵션에 'kor'을 사용하여 한국어 인식을 지정할 수 있습니다.\n",
    "question = pytesseract.image_to_string(image, lang='kor')\n",
    "\n",
    "print(question)"
   ]
  },
  {
   "cell_type": "code",
   "execution_count": 5,
   "metadata": {},
   "outputs": [
    {
     "name": "stdout",
     "output_type": "stream",
     "text": [
      "2 가장 근 수와 가장 작은 수의 급을 구하시오\n",
      "309\n",
      "54\n",
      "91\n",
      "636\n"
     ]
    }
   ],
   "source": [
    "# EasyOCR 사용 예시\n",
    "import easyocr\n",
    "\n",
    "reader = easyocr.Reader(['ko'])  # 여기에 사용하고 싶은 언어 코드를 입력합니다.\n",
    "results = reader.readtext('sample3.png')\n",
    "for result in results:\n",
    "    print(result[1])"
   ]
  },
  {
   "attachments": {},
   "cell_type": "markdown",
   "metadata": {},
   "source": [
    "### 텍스트 전처리 과정"
   ]
  },
  {
   "cell_type": "code",
   "execution_count": 6,
   "metadata": {},
   "outputs": [
    {
     "name": "stdout",
     "output_type": "stream",
     "text": [
      "1.형민이네농장에서오늘딴글은한상자에100개씩\n",
      "74상자와날개15개입니다.오늘딴글은모두몇개입\n",
      "니까?\n",
      "\n",
      ")7400(2)7375(3)7410\n",
      "(4)7405(5)7415\n",
      "\n",
      "\n"
     ]
    }
   ],
   "source": [
    "# 방법 2: 전체 공백 제거 후 다시 띄어쓰기\n",
    "\n",
    "text_nonspace = question.replace(\" \", \"\")\n",
    "print(text_nonspace)"
   ]
  },
  {
   "attachments": {},
   "cell_type": "markdown",
   "metadata": {},
   "source": [
    "### vectorization"
   ]
  },
  {
   "cell_type": "code",
   "execution_count": 6,
   "metadata": {},
   "outputs": [],
   "source": [
    "# Okt 객체 초기화\n",
    "okt = Okt()\n",
    "\n",
    "# 표제어 처리 함수 정의\n",
    "def vector(text):\n",
    "    morphs = okt.pos(text, norm=True, stem=True)  # 형태소 분석\n",
    "    return morphs\n"
   ]
  },
  {
   "cell_type": "code",
   "execution_count": 12,
   "metadata": {},
   "outputs": [
    {
     "ename": "AssertionError",
     "evalue": "phrase input should be string, not <class 'tuple'>",
     "output_type": "error",
     "traceback": [
      "\u001b[0;31m---------------------------------------------------------------------------\u001b[0m",
      "\u001b[0;31mAssertionError\u001b[0m                            Traceback (most recent call last)",
      "Cell \u001b[0;32mIn[12], line 1\u001b[0m\n\u001b[0;32m----> 1\u001b[0m vector(results[\u001b[39m0\u001b[39;49m])\n",
      "Cell \u001b[0;32mIn[6], line 6\u001b[0m, in \u001b[0;36mvector\u001b[0;34m(text)\u001b[0m\n\u001b[1;32m      5\u001b[0m \u001b[39mdef\u001b[39;00m \u001b[39mvector\u001b[39m(text):\n\u001b[0;32m----> 6\u001b[0m     morphs \u001b[39m=\u001b[39m okt\u001b[39m.\u001b[39;49mpos(text, norm\u001b[39m=\u001b[39;49m\u001b[39mTrue\u001b[39;49;00m, stem\u001b[39m=\u001b[39;49m\u001b[39mTrue\u001b[39;49;00m)  \u001b[39m# 형태소 분석\u001b[39;00m\n\u001b[1;32m      7\u001b[0m     \u001b[39mreturn\u001b[39;00m morphs\n",
      "File \u001b[0;32m~/opt/anaconda3/envs/edu/lib/python3.10/site-packages/konlpy/tag/_okt.py:69\u001b[0m, in \u001b[0;36mOkt.pos\u001b[0;34m(self, phrase, norm, stem, join)\u001b[0m\n\u001b[1;32m     58\u001b[0m \u001b[39mdef\u001b[39;00m \u001b[39mpos\u001b[39m(\u001b[39mself\u001b[39m, phrase, norm\u001b[39m=\u001b[39m\u001b[39mFalse\u001b[39;00m, stem\u001b[39m=\u001b[39m\u001b[39mFalse\u001b[39;00m, join\u001b[39m=\u001b[39m\u001b[39mFalse\u001b[39;00m):\n\u001b[1;32m     59\u001b[0m \u001b[39m    \u001b[39m\u001b[39m\"\"\"POS tagger.\u001b[39;00m\n\u001b[1;32m     60\u001b[0m \u001b[39m    In contrast to other classes in this subpackage,\u001b[39;00m\n\u001b[1;32m     61\u001b[0m \u001b[39m    this POS tagger doesn't have a `flatten` option,\u001b[39;00m\n\u001b[0;32m   (...)\u001b[0m\n\u001b[1;32m     67\u001b[0m \u001b[39m    :param join: If True, returns joined sets of morph and tag.\u001b[39;00m\n\u001b[1;32m     68\u001b[0m \u001b[39m    \"\"\"\u001b[39;00m\n\u001b[0;32m---> 69\u001b[0m     validate_phrase_inputs(phrase)\n\u001b[1;32m     71\u001b[0m     tokens \u001b[39m=\u001b[39m \u001b[39mself\u001b[39m\u001b[39m.\u001b[39mjki\u001b[39m.\u001b[39mtokenize(\n\u001b[1;32m     72\u001b[0m                 phrase,\n\u001b[1;32m     73\u001b[0m                 jpype\u001b[39m.\u001b[39mjava\u001b[39m.\u001b[39mlang\u001b[39m.\u001b[39mBoolean(norm),\n\u001b[1;32m     74\u001b[0m                 jpype\u001b[39m.\u001b[39mjava\u001b[39m.\u001b[39mlang\u001b[39m.\u001b[39mBoolean(stem))\u001b[39m.\u001b[39mtoArray()\n\u001b[1;32m     75\u001b[0m     \u001b[39mif\u001b[39;00m join:\n",
      "File \u001b[0;32m~/opt/anaconda3/envs/edu/lib/python3.10/site-packages/konlpy/tag/_common.py:20\u001b[0m, in \u001b[0;36mvalidate_phrase_inputs\u001b[0;34m(phrase)\u001b[0m\n\u001b[1;32m     14\u001b[0m \u001b[39m\u001b[39m\u001b[39m\"\"\"validate if phrase input is provided in str format\u001b[39;00m\n\u001b[1;32m     15\u001b[0m \n\u001b[1;32m     16\u001b[0m \u001b[39mArgs:\u001b[39;00m\n\u001b[1;32m     17\u001b[0m \u001b[39m    phrase (str): phrase input\u001b[39;00m\n\u001b[1;32m     18\u001b[0m \u001b[39m\"\"\"\u001b[39;00m\n\u001b[1;32m     19\u001b[0m msg \u001b[39m=\u001b[39m \u001b[39m\"\u001b[39m\u001b[39mphrase input should be string, not \u001b[39m\u001b[39m%s\u001b[39;00m\u001b[39m\"\u001b[39m \u001b[39m%\u001b[39m \u001b[39mtype\u001b[39m(phrase)\n\u001b[0;32m---> 20\u001b[0m \u001b[39massert\u001b[39;00m \u001b[39misinstance\u001b[39m(phrase, basestring), msg\n",
      "\u001b[0;31mAssertionError\u001b[0m: phrase input should be string, not <class 'tuple'>"
     ]
    }
   ],
   "source": [
    "vector(results[0])"
   ]
  },
  {
   "cell_type": "code",
   "execution_count": null,
   "metadata": {},
   "outputs": [],
   "source": []
  },
  {
   "attachments": {},
   "cell_type": "markdown",
   "metadata": {},
   "source": [
    "### Handchive 모델 쓰기"
   ]
  },
  {
   "cell_type": "code",
   "execution_count": null,
   "metadata": {},
   "outputs": [],
   "source": [
    "model_path = 'trocr.pth'\n",
    "model = torch.load(model_path)\n",
    "model = model.to('cuda')"
   ]
  }
 ],
 "metadata": {
  "kernelspec": {
   "display_name": "base",
   "language": "python",
   "name": "python3"
  },
  "language_info": {
   "codemirror_mode": {
    "name": "ipython",
    "version": 3
   },
   "file_extension": ".py",
   "mimetype": "text/x-python",
   "name": "python",
   "nbconvert_exporter": "python",
   "pygments_lexer": "ipython3",
   "version": "3.10.14"
  },
  "orig_nbformat": 4
 },
 "nbformat": 4,
 "nbformat_minor": 2
}

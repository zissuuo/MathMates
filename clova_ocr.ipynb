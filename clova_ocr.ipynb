{
 "cells": [
  {
   "cell_type": "code",
   "execution_count": 1,
   "metadata": {},
   "outputs": [],
   "source": [
    "import requests\n",
    "import uuid\n",
    "import time\n",
    "import json"
   ]
  },
  {
   "cell_type": "code",
   "execution_count": 17,
   "metadata": {},
   "outputs": [],
   "source": [
    "api_url = 'https://mhkbp2mf6p.apigw.ntruss.com/custom/v1/30558/e613bb442bf089c035920266fa19f94a0972c896f212eda804d265c3b3f0e3f9/general'\n",
    "secret_key = 'cmNvY1FkUWZYaVFnZEpkSEVXdElSd1JYQVhzeUF6WnY='"
   ]
  },
  {
   "cell_type": "code",
   "execution_count": 28,
   "metadata": {},
   "outputs": [],
   "source": [
    "image_file = 'sample2.png'"
   ]
  },
  {
   "cell_type": "code",
   "execution_count": 29,
   "metadata": {},
   "outputs": [
    {
     "name": "stdout",
     "output_type": "stream",
     "text": [
      "b'{\"version\":\"V2\",\"requestId\":\"4732aff6-bed3-4521-9afd-6696e1e73eeb\",\"timestamp\":1714553590747,\"images\":[{\"uid\":\"eedba09cbba84274b843ec025388c8ba\",\"name\":\"demo\",\"inferResult\":\"SUCCESS\",\"message\":\"SUCCESS\",\"validationResult\":{\"result\":\"NO_REQUESTED\"},\"convertedImageInfo\":{\"width\":556,\"height\":344,\"pageIndex\":0,\"longImage\":false},\"fields\":[{\"valueType\":\"ALL\",\"boundingPoly\":{\"vertices\":[{\"x\":11.0,\"y\":20.0},{\"x\":36.0,\"y\":20.0},{\"x\":36.0,\"y\":42.0},{\"x\":11.0,\"y\":42.0}]},\"inferText\":\"6.\",\"inferConfidence\":1.0,\"type\":\"NORMAL\",\"lineBreak\":false},{\"valueType\":\"ALL\",\"boundingPoly\":{\"vertices\":[{\"x\":44.0,\"y\":18.0},{\"x\":93.0,\"y\":18.0},{\"x\":93.0,\"y\":46.0},{\"x\":44.0,\"y\":46.0}]},\"inferText\":\"\\xeb\\x8b\\xa4\\xec\\x9d\\x8c\",\"inferConfidence\":0.9996,\"type\":\"NORMAL\",\"lineBreak\":false},{\"valueType\":\"ALL\",\"boundingPoly\":{\"vertices\":[{\"x\":99.0,\"y\":19.0},{\"x\":237.0,\"y\":19.0},{\"x\":237.0,\"y\":45.0},{\"x\":99.0,\"y\":45.0}]},\"inferText\":\"\\xec\\xa7\\x81\\xec\\x82\\xac\\xea\\xb0\\x81\\xed\\x98\\x95\\xec\\x97\\x90\\xec\\x84\\x9c\",\"inferConfidence\":0.9999,\"type\":\"NORMAL\",\"lineBreak\":false},{\"valueType\":\"ALL\",\"boundingPoly\":{\"vertices\":[{\"x\":247.0,\"y\":19.0},{\"x\":533.0,\"y\":19.0},{\"x\":533.0,\"y\":45.0},{\"x\":247.0,\"y\":45.0}]},\"inferText\":\"\\xec\\xa7\\x81\\xea\\xb0\\x81\\xec\\x82\\xbc\\xea\\xb0\\x81\\xed\\x98\\x95\\xec\\x9d\\x80\\xeb\\xaa\\x87 \\xea\\xb0\\x9c\\xec\\x9e\\x85\\xeb\\x8b\\x88\\xea\\xb9\\x8c?\",\"inferConfidence\":0.9997,\"type\":\"NORMAL\",\"lineBreak\":true},{\"valueType\":\"ALL\",\"boundingPoly\":{\"vertices\":[{\"x\":18.0,\"y\":302.0},{\"x\":82.0,\"y\":302.0},{\"x\":82.0,\"y\":325.0},{\"x\":18.0,\"y\":325.0}]},\"inferText\":\"1 1\\xea\\xb0\\x9c\",\"inferConfidence\":0.9989,\"type\":\"NORMAL\",\"lineBreak\":false},{\"valueType\":\"ALL\",\"boundingPoly\":{\"vertices\":[{\"x\":131.0,\"y\":304.0},{\"x\":148.0,\"y\":304.0},{\"x\":148.0,\"y\":323.0},{\"x\":131.0,\"y\":323.0}]},\"inferText\":\"2\",\"inferConfidence\":1.0,\"type\":\"NORMAL\",\"lineBreak\":false},{\"valueType\":\"ALL\",\"boundingPoly\":{\"vertices\":[{\"x\":157.0,\"y\":301.0},{\"x\":197.0,\"y\":301.0},{\"x\":197.0,\"y\":325.0},{\"x\":157.0,\"y\":325.0}]},\"inferText\":\"2\\xea\\xb0\\x9c\",\"inferConfidence\":1.0,\"type\":\"NORMAL\",\"lineBreak\":false},{\"valueType\":\"ALL\",\"boundingPoly\":{\"vertices\":[{\"x\":246.0,\"y\":305.0},{\"x\":262.0,\"y\":305.0},{\"x\":262.0,\"y\":322.0},{\"x\":246.0,\"y\":322.0}]},\"inferText\":\"3\",\"inferConfidence\":1.0,\"type\":\"NORMAL\",\"lineBreak\":false},{\"valueType\":\"ALL\",\"boundingPoly\":{\"vertices\":[{\"x\":272.0,\"y\":302.0},{\"x\":312.0,\"y\":302.0},{\"x\":312.0,\"y\":325.0},{\"x\":272.0,\"y\":325.0}]},\"inferText\":\"3\\xea\\xb0\\x9c\",\"inferConfidence\":1.0,\"type\":\"NORMAL\",\"lineBreak\":false},{\"valueType\":\"ALL\",\"boundingPoly\":{\"vertices\":[{\"x\":360.0,\"y\":305.0},{\"x\":376.0,\"y\":305.0},{\"x\":376.0,\"y\":322.0},{\"x\":360.0,\"y\":322.0}]},\"inferText\":\"4\",\"inferConfidence\":0.9983,\"type\":\"NORMAL\",\"lineBreak\":false},{\"valueType\":\"ALL\",\"boundingPoly\":{\"vertices\":[{\"x\":388.0,\"y\":302.0},{\"x\":426.0,\"y\":302.0},{\"x\":426.0,\"y\":324.0},{\"x\":388.0,\"y\":324.0}]},\"inferText\":\"4\\xea\\xb0\\x9c\",\"inferConfidence\":1.0,\"type\":\"NORMAL\",\"lineBreak\":false},{\"valueType\":\"ALL\",\"boundingPoly\":{\"vertices\":[{\"x\":475.0,\"y\":304.0},{\"x\":491.0,\"y\":304.0},{\"x\":491.0,\"y\":322.0},{\"x\":475.0,\"y\":322.0}]},\"inferText\":\"5\",\"inferConfidence\":1.0,\"type\":\"NORMAL\",\"lineBreak\":false},{\"valueType\":\"ALL\",\"boundingPoly\":{\"vertices\":[{\"x\":501.0,\"y\":302.0},{\"x\":540.0,\"y\":302.0},{\"x\":540.0,\"y\":325.0},{\"x\":501.0,\"y\":325.0}]},\"inferText\":\"5\\xea\\xb0\\x9c\",\"inferConfidence\":1.0,\"type\":\"NORMAL\",\"lineBreak\":true}]}]}'\n"
     ]
    }
   ],
   "source": [
    "request_json = {\n",
    "    'images': [\n",
    "        {\n",
    "            'format': 'jpg',\n",
    "            'name': 'demo'\n",
    "        }\n",
    "    ],\n",
    "    'requestId': str(uuid.uuid4()),\n",
    "    'version': 'V2',\n",
    "    'timestamp': int(round(time.time() * 1000))\n",
    "}\n",
    "\n",
    " \n",
    "payload = {'message': json.dumps(request_json).encode('UTF-8')}\n",
    "files = [\n",
    "  ('file', open(image_file,'rb'))\n",
    "]\n",
    "headers = {\n",
    "  'X-OCR-SECRET': secret_key\n",
    "}\n",
    "\n",
    "response = requests.request(\"POST\", api_url, headers=headers, data = payload, files = files)\n",
    "\n",
    "print(response.text.encode('utf8'))"
   ]
  },
  {
   "cell_type": "code",
   "execution_count": 30,
   "metadata": {},
   "outputs": [
    {
     "data": {
      "text/plain": [
       "{'version': 'V2',\n",
       " 'requestId': '4732aff6-bed3-4521-9afd-6696e1e73eeb',\n",
       " 'timestamp': 1714553590747,\n",
       " 'images': [{'uid': 'eedba09cbba84274b843ec025388c8ba',\n",
       "   'name': 'demo',\n",
       "   'inferResult': 'SUCCESS',\n",
       "   'message': 'SUCCESS',\n",
       "   'validationResult': {'result': 'NO_REQUESTED'},\n",
       "   'convertedImageInfo': {'width': 556,\n",
       "    'height': 344,\n",
       "    'pageIndex': 0,\n",
       "    'longImage': False},\n",
       "   'fields': [{'valueType': 'ALL',\n",
       "     'boundingPoly': {'vertices': [{'x': 11.0, 'y': 20.0},\n",
       "       {'x': 36.0, 'y': 20.0},\n",
       "       {'x': 36.0, 'y': 42.0},\n",
       "       {'x': 11.0, 'y': 42.0}]},\n",
       "     'inferText': '6.',\n",
       "     'inferConfidence': 1.0,\n",
       "     'type': 'NORMAL',\n",
       "     'lineBreak': False},\n",
       "    {'valueType': 'ALL',\n",
       "     'boundingPoly': {'vertices': [{'x': 44.0, 'y': 18.0},\n",
       "       {'x': 93.0, 'y': 18.0},\n",
       "       {'x': 93.0, 'y': 46.0},\n",
       "       {'x': 44.0, 'y': 46.0}]},\n",
       "     'inferText': '다음',\n",
       "     'inferConfidence': 0.9996,\n",
       "     'type': 'NORMAL',\n",
       "     'lineBreak': False},\n",
       "    {'valueType': 'ALL',\n",
       "     'boundingPoly': {'vertices': [{'x': 99.0, 'y': 19.0},\n",
       "       {'x': 237.0, 'y': 19.0},\n",
       "       {'x': 237.0, 'y': 45.0},\n",
       "       {'x': 99.0, 'y': 45.0}]},\n",
       "     'inferText': '직사각형에서',\n",
       "     'inferConfidence': 0.9999,\n",
       "     'type': 'NORMAL',\n",
       "     'lineBreak': False},\n",
       "    {'valueType': 'ALL',\n",
       "     'boundingPoly': {'vertices': [{'x': 247.0, 'y': 19.0},\n",
       "       {'x': 533.0, 'y': 19.0},\n",
       "       {'x': 533.0, 'y': 45.0},\n",
       "       {'x': 247.0, 'y': 45.0}]},\n",
       "     'inferText': '직각삼각형은몇 개입니까?',\n",
       "     'inferConfidence': 0.9997,\n",
       "     'type': 'NORMAL',\n",
       "     'lineBreak': True},\n",
       "    {'valueType': 'ALL',\n",
       "     'boundingPoly': {'vertices': [{'x': 18.0, 'y': 302.0},\n",
       "       {'x': 82.0, 'y': 302.0},\n",
       "       {'x': 82.0, 'y': 325.0},\n",
       "       {'x': 18.0, 'y': 325.0}]},\n",
       "     'inferText': '1 1개',\n",
       "     'inferConfidence': 0.9989,\n",
       "     'type': 'NORMAL',\n",
       "     'lineBreak': False},\n",
       "    {'valueType': 'ALL',\n",
       "     'boundingPoly': {'vertices': [{'x': 131.0, 'y': 304.0},\n",
       "       {'x': 148.0, 'y': 304.0},\n",
       "       {'x': 148.0, 'y': 323.0},\n",
       "       {'x': 131.0, 'y': 323.0}]},\n",
       "     'inferText': '2',\n",
       "     'inferConfidence': 1.0,\n",
       "     'type': 'NORMAL',\n",
       "     'lineBreak': False},\n",
       "    {'valueType': 'ALL',\n",
       "     'boundingPoly': {'vertices': [{'x': 157.0, 'y': 301.0},\n",
       "       {'x': 197.0, 'y': 301.0},\n",
       "       {'x': 197.0, 'y': 325.0},\n",
       "       {'x': 157.0, 'y': 325.0}]},\n",
       "     'inferText': '2개',\n",
       "     'inferConfidence': 1.0,\n",
       "     'type': 'NORMAL',\n",
       "     'lineBreak': False},\n",
       "    {'valueType': 'ALL',\n",
       "     'boundingPoly': {'vertices': [{'x': 246.0, 'y': 305.0},\n",
       "       {'x': 262.0, 'y': 305.0},\n",
       "       {'x': 262.0, 'y': 322.0},\n",
       "       {'x': 246.0, 'y': 322.0}]},\n",
       "     'inferText': '3',\n",
       "     'inferConfidence': 1.0,\n",
       "     'type': 'NORMAL',\n",
       "     'lineBreak': False},\n",
       "    {'valueType': 'ALL',\n",
       "     'boundingPoly': {'vertices': [{'x': 272.0, 'y': 302.0},\n",
       "       {'x': 312.0, 'y': 302.0},\n",
       "       {'x': 312.0, 'y': 325.0},\n",
       "       {'x': 272.0, 'y': 325.0}]},\n",
       "     'inferText': '3개',\n",
       "     'inferConfidence': 1.0,\n",
       "     'type': 'NORMAL',\n",
       "     'lineBreak': False},\n",
       "    {'valueType': 'ALL',\n",
       "     'boundingPoly': {'vertices': [{'x': 360.0, 'y': 305.0},\n",
       "       {'x': 376.0, 'y': 305.0},\n",
       "       {'x': 376.0, 'y': 322.0},\n",
       "       {'x': 360.0, 'y': 322.0}]},\n",
       "     'inferText': '4',\n",
       "     'inferConfidence': 0.9983,\n",
       "     'type': 'NORMAL',\n",
       "     'lineBreak': False},\n",
       "    {'valueType': 'ALL',\n",
       "     'boundingPoly': {'vertices': [{'x': 388.0, 'y': 302.0},\n",
       "       {'x': 426.0, 'y': 302.0},\n",
       "       {'x': 426.0, 'y': 324.0},\n",
       "       {'x': 388.0, 'y': 324.0}]},\n",
       "     'inferText': '4개',\n",
       "     'inferConfidence': 1.0,\n",
       "     'type': 'NORMAL',\n",
       "     'lineBreak': False},\n",
       "    {'valueType': 'ALL',\n",
       "     'boundingPoly': {'vertices': [{'x': 475.0, 'y': 304.0},\n",
       "       {'x': 491.0, 'y': 304.0},\n",
       "       {'x': 491.0, 'y': 322.0},\n",
       "       {'x': 475.0, 'y': 322.0}]},\n",
       "     'inferText': '5',\n",
       "     'inferConfidence': 1.0,\n",
       "     'type': 'NORMAL',\n",
       "     'lineBreak': False},\n",
       "    {'valueType': 'ALL',\n",
       "     'boundingPoly': {'vertices': [{'x': 501.0, 'y': 302.0},\n",
       "       {'x': 540.0, 'y': 302.0},\n",
       "       {'x': 540.0, 'y': 325.0},\n",
       "       {'x': 501.0, 'y': 325.0}]},\n",
       "     'inferText': '5개',\n",
       "     'inferConfidence': 1.0,\n",
       "     'type': 'NORMAL',\n",
       "     'lineBreak': True}]}]}"
      ]
     },
     "execution_count": 30,
     "metadata": {},
     "output_type": "execute_result"
    }
   ],
   "source": [
    "response1 = json.loads(response.text)\n",
    "response1"
   ]
  },
  {
   "cell_type": "code",
   "execution_count": 31,
   "metadata": {},
   "outputs": [
    {
     "data": {
      "text/plain": [
       "['6.',\n",
       " '다음',\n",
       " '직사각형에서',\n",
       " '직각삼각형은몇 개입니까?',\n",
       " '1 1개',\n",
       " '2',\n",
       " '2개',\n",
       " '3',\n",
       " '3개',\n",
       " '4',\n",
       " '4개',\n",
       " '5',\n",
       " '5개']"
      ]
     },
     "execution_count": 31,
     "metadata": {},
     "output_type": "execute_result"
    }
   ],
   "source": [
    "response1 = json.loads(response.text)\n",
    "inferText_list = [field['inferText'] for field in response1['images'][0]['fields']]\n",
    "inferText_list"
   ]
  },
  {
   "cell_type": "code",
   "execution_count": null,
   "metadata": {},
   "outputs": [],
   "source": []
  }
 ],
 "metadata": {
  "kernelspec": {
   "display_name": "edu",
   "language": "python",
   "name": "python3"
  },
  "language_info": {
   "codemirror_mode": {
    "name": "ipython",
    "version": 3
   },
   "file_extension": ".py",
   "mimetype": "text/x-python",
   "name": "python",
   "nbconvert_exporter": "python",
   "pygments_lexer": "ipython3",
   "version": "3.10.14"
  },
  "orig_nbformat": 4
 },
 "nbformat": 4,
 "nbformat_minor": 2
}

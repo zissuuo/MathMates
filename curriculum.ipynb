{
 "cells": [
  {
   "cell_type": "code",
   "execution_count": 1,
   "metadata": {},
   "outputs": [],
   "source": [
    "import pandas as pd"
   ]
  },
  {
   "cell_type": "code",
   "execution_count": 4,
   "metadata": {},
   "outputs": [],
   "source": [
    "# 빈 데이터프레임 생성. 열 이름을 지정합니다.\n",
    "df = pd.DataFrame(columns=['Grade', 'Semester', 'Unit'])"
   ]
  },
  {
   "cell_type": "code",
   "execution_count": 5,
   "metadata": {},
   "outputs": [
    {
     "data": {
      "text/html": [
       "<div>\n",
       "<style scoped>\n",
       "    .dataframe tbody tr th:only-of-type {\n",
       "        vertical-align: middle;\n",
       "    }\n",
       "\n",
       "    .dataframe tbody tr th {\n",
       "        vertical-align: top;\n",
       "    }\n",
       "\n",
       "    .dataframe thead th {\n",
       "        text-align: right;\n",
       "    }\n",
       "</style>\n",
       "<table border=\"1\" class=\"dataframe\">\n",
       "  <thead>\n",
       "    <tr style=\"text-align: right;\">\n",
       "      <th></th>\n",
       "      <th>Grade</th>\n",
       "      <th>Semester</th>\n",
       "      <th>Unit</th>\n",
       "    </tr>\n",
       "  </thead>\n",
       "  <tbody>\n",
       "  </tbody>\n",
       "</table>\n",
       "</div>"
      ],
      "text/plain": [
       "Empty DataFrame\n",
       "Columns: [Grade, Semester, Unit]\n",
       "Index: []"
      ]
     },
     "execution_count": 5,
     "metadata": {},
     "output_type": "execute_result"
    }
   ],
   "source": [
    "df"
   ]
  },
  {
   "cell_type": "code",
   "execution_count": 9,
   "metadata": {},
   "outputs": [],
   "source": [
    "data = []\n",
    "data.append({'Grade': 1, 'Semester': 1, 'Unit': '1. 9까지의 수'})\n",
    "data.append({'Grade': 1, 'Semester': 1, 'Unit': '2. 여러 가지 모양'})\n",
    "data.append({'Grade': 1, 'Semester': 1, 'Unit': '3. 덧셈과 뺄셈'})\n",
    "data.append({'Grade': 1, 'Semester': 1, 'Unit': '4. 비교하기'})\n",
    "data.append({'Grade': 1, 'Semester': 1, 'Unit': '5. 50까지의 수'})\n",
    "\n",
    "data.append({'Grade': 1, 'Semester': 2, 'Unit': '1. 100까지의 수'})\n",
    "data.append({'Grade': 1, 'Semester': 2, 'Unit': '2. 덧셈과 뺄셈(1)'})\n",
    "data.append({'Grade': 1, 'Semester': 2, 'Unit': '3. 여러 가지 모양'})\n",
    "data.append({'Grade': 1, 'Semester': 2, 'Unit': '4. 덧셈과 뺄셈(2)'})\n",
    "data.append({'Grade': 1, 'Semester': 2, 'Unit': '5. 시계 보기와 규칙 찾기'})\n",
    "data.append({'Grade': 1, 'Semester': 2, 'Unit': '6. 덧셈과 뺄셈(3)'})\n",
    "\n",
    "data.append({'Grade': 2, 'Semester': 1, 'Unit': '1. 세 자리 수'})\n",
    "data.append({'Grade': 2, 'Semester': 1, 'Unit': '2. 여러가지 도형'})"
   ]
  },
  {
   "cell_type": "code",
   "execution_count": 12,
   "metadata": {},
   "outputs": [
    {
     "data": {
      "text/html": [
       "<div>\n",
       "<style scoped>\n",
       "    .dataframe tbody tr th:only-of-type {\n",
       "        vertical-align: middle;\n",
       "    }\n",
       "\n",
       "    .dataframe tbody tr th {\n",
       "        vertical-align: top;\n",
       "    }\n",
       "\n",
       "    .dataframe thead th {\n",
       "        text-align: right;\n",
       "    }\n",
       "</style>\n",
       "<table border=\"1\" class=\"dataframe\">\n",
       "  <thead>\n",
       "    <tr style=\"text-align: right;\">\n",
       "      <th></th>\n",
       "      <th>Grade</th>\n",
       "      <th>Semester</th>\n",
       "      <th>Unit</th>\n",
       "    </tr>\n",
       "  </thead>\n",
       "  <tbody>\n",
       "    <tr>\n",
       "      <th>0</th>\n",
       "      <td>1</td>\n",
       "      <td>1</td>\n",
       "      <td>1. 9까지의 수</td>\n",
       "    </tr>\n",
       "    <tr>\n",
       "      <th>1</th>\n",
       "      <td>1</td>\n",
       "      <td>1</td>\n",
       "      <td>2. 여러 가지 모양</td>\n",
       "    </tr>\n",
       "    <tr>\n",
       "      <th>2</th>\n",
       "      <td>1</td>\n",
       "      <td>1</td>\n",
       "      <td>3. 덧셈과 뺄셈</td>\n",
       "    </tr>\n",
       "    <tr>\n",
       "      <th>3</th>\n",
       "      <td>1</td>\n",
       "      <td>1</td>\n",
       "      <td>4. 비교하기</td>\n",
       "    </tr>\n",
       "    <tr>\n",
       "      <th>4</th>\n",
       "      <td>1</td>\n",
       "      <td>1</td>\n",
       "      <td>5. 50까지의 수</td>\n",
       "    </tr>\n",
       "    <tr>\n",
       "      <th>5</th>\n",
       "      <td>1</td>\n",
       "      <td>2</td>\n",
       "      <td>1. 100까지의 수</td>\n",
       "    </tr>\n",
       "    <tr>\n",
       "      <th>6</th>\n",
       "      <td>1</td>\n",
       "      <td>2</td>\n",
       "      <td>2. 덧셈과 뺄셈(1)</td>\n",
       "    </tr>\n",
       "    <tr>\n",
       "      <th>7</th>\n",
       "      <td>1</td>\n",
       "      <td>2</td>\n",
       "      <td>3. 여러 가지 모양</td>\n",
       "    </tr>\n",
       "    <tr>\n",
       "      <th>8</th>\n",
       "      <td>1</td>\n",
       "      <td>2</td>\n",
       "      <td>4. 덧셈과 뺄셈(2)</td>\n",
       "    </tr>\n",
       "    <tr>\n",
       "      <th>9</th>\n",
       "      <td>1</td>\n",
       "      <td>2</td>\n",
       "      <td>5. 시계 보기와 규칙 찾기</td>\n",
       "    </tr>\n",
       "    <tr>\n",
       "      <th>10</th>\n",
       "      <td>1</td>\n",
       "      <td>2</td>\n",
       "      <td>6. 덧셈과 뺄셈(3)</td>\n",
       "    </tr>\n",
       "    <tr>\n",
       "      <th>11</th>\n",
       "      <td>2</td>\n",
       "      <td>1</td>\n",
       "      <td>1. 세 자리 수</td>\n",
       "    </tr>\n",
       "    <tr>\n",
       "      <th>12</th>\n",
       "      <td>2</td>\n",
       "      <td>1</td>\n",
       "      <td>2. 여러가지 도형</td>\n",
       "    </tr>\n",
       "  </tbody>\n",
       "</table>\n",
       "</div>"
      ],
      "text/plain": [
       "    Grade  Semester             Unit\n",
       "0       1         1        1. 9까지의 수\n",
       "1       1         1      2. 여러 가지 모양\n",
       "2       1         1        3. 덧셈과 뺄셈\n",
       "3       1         1          4. 비교하기\n",
       "4       1         1       5. 50까지의 수\n",
       "5       1         2      1. 100까지의 수\n",
       "6       1         2     2. 덧셈과 뺄셈(1)\n",
       "7       1         2      3. 여러 가지 모양\n",
       "8       1         2     4. 덧셈과 뺄셈(2)\n",
       "9       1         2  5. 시계 보기와 규칙 찾기\n",
       "10      1         2     6. 덧셈과 뺄셈(3)\n",
       "11      2         1        1. 세 자리 수\n",
       "12      2         1       2. 여러가지 도형"
      ]
     },
     "execution_count": 12,
     "metadata": {},
     "output_type": "execute_result"
    }
   ],
   "source": [
    "df = pd.DataFrame(data)\n",
    "df"
   ]
  },
  {
   "cell_type": "code",
   "execution_count": null,
   "metadata": {},
   "outputs": [],
   "source": []
  }
 ],
 "metadata": {
  "kernelspec": {
   "display_name": "edu",
   "language": "python",
   "name": "python3"
  },
  "language_info": {
   "codemirror_mode": {
    "name": "ipython",
    "version": 3
   },
   "file_extension": ".py",
   "mimetype": "text/x-python",
   "name": "python",
   "nbconvert_exporter": "python",
   "pygments_lexer": "ipython3",
   "version": "3.10.14"
  }
 },
 "nbformat": 4,
 "nbformat_minor": 2
}
